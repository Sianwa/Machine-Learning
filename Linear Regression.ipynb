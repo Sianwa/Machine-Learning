{
 "cells": [
  {
   "cell_type": "code",
   "execution_count": 2,
   "metadata": {},
   "outputs": [],
   "source": [
    "import matplotlib.pyplot as plt\n",
    "import numpy as np\n",
    "import pandas as pd"
   ]
  },
  {
   "cell_type": "code",
   "execution_count": 3,
   "metadata": {},
   "outputs": [],
   "source": [
    "m=0\n",
    "c=0\n",
    "#learning rate\n",
    "L=0.0001\n",
    "epoch=3\n",
    "epoch_count_list=[]\n",
    "epoch_error_list=[]"
   ]
  },
  {
   "cell_type": "code",
   "execution_count": 29,
   "metadata": {},
   "outputs": [
    {
     "data": {
      "text/html": [
       "<div>\n",
       "<style scoped>\n",
       "    .dataframe tbody tr th:only-of-type {\n",
       "        vertical-align: middle;\n",
       "    }\n",
       "\n",
       "    .dataframe tbody tr th {\n",
       "        vertical-align: top;\n",
       "    }\n",
       "\n",
       "    .dataframe thead th {\n",
       "        text-align: right;\n",
       "    }\n",
       "</style>\n",
       "<table border=\"1\" class=\"dataframe\">\n",
       "  <thead>\n",
       "    <tr style=\"text-align: right;\">\n",
       "      <th></th>\n",
       "      <th>size_in_sq_ft</th>\n",
       "      <th>price_x1000_sh</th>\n",
       "    </tr>\n",
       "  </thead>\n",
       "  <tbody>\n",
       "    <tr>\n",
       "      <th>0</th>\n",
       "      <td>32.502345</td>\n",
       "      <td>31.707006</td>\n",
       "    </tr>\n",
       "    <tr>\n",
       "      <th>1</th>\n",
       "      <td>53.426804</td>\n",
       "      <td>68.777596</td>\n",
       "    </tr>\n",
       "    <tr>\n",
       "      <th>2</th>\n",
       "      <td>61.530358</td>\n",
       "      <td>62.562382</td>\n",
       "    </tr>\n",
       "    <tr>\n",
       "      <th>3</th>\n",
       "      <td>47.475640</td>\n",
       "      <td>71.546632</td>\n",
       "    </tr>\n",
       "    <tr>\n",
       "      <th>4</th>\n",
       "      <td>59.813208</td>\n",
       "      <td>87.230925</td>\n",
       "    </tr>\n",
       "  </tbody>\n",
       "</table>\n",
       "</div>"
      ],
      "text/plain": [
       "   size_in_sq_ft  price_x1000_sh\n",
       "0      32.502345       31.707006\n",
       "1      53.426804       68.777596\n",
       "2      61.530358       62.562382\n",
       "3      47.475640       71.546632\n",
       "4      59.813208       87.230925"
      ]
     },
     "execution_count": 29,
     "metadata": {},
     "output_type": "execute_result"
    }
   ],
   "source": [
    "data=pd.read_csv('data.csv', header=0)"
   ]
  },
  {
   "cell_type": "code",
   "execution_count": 28,
   "metadata": {},
   "outputs": [],
   "source": [
    "X=data['size_in_sq_ft']\n",
    "Y=data['price_x1000_sh']\n",
    "N=float(len(X))"
   ]
  },
  {
   "cell_type": "code",
   "execution_count": 44,
   "metadata": {},
   "outputs": [],
   "source": [
    "def mse(N, Y,Y_hat):\n",
    "    return (1/N)*sum(Y-Y_hat)**2"
   ]
  },
  {
   "cell_type": "code",
   "execution_count": 45,
   "metadata": {},
   "outputs": [],
   "source": [
    "def gradient_descent_fit(m, c, N, L):\n",
    "    for i in range(epoch):\n",
    "        Y_hat=m*X+c\n",
    "        \n",
    "        epoch_count_list.append(i)\n",
    "        \n",
    "        epoch_error=mse(N, Y,Y_hat)\n",
    "        \n",
    "        epoch_error_list.append(epoch_error)\n",
    "        \n",
    "        #derrivate with respect to m\n",
    "        D_m=(-2/N)*sum(X*(Y-Y_hat))\n",
    "        \n",
    "        #derrivate with respect to c\n",
    "        D_c=(-2/N)*sum(Y-Y_hat)\n",
    "        \n",
    "        m=m-(L*D_m)\n",
    "        \n",
    "        c=c-(L*D_c)    \n",
    "    print('Final M is ', m,' Final c is ' ,c)\n",
    "    return Y_hat\n"
   ]
  },
  {
   "cell_type": "code",
   "execution_count": 46,
   "metadata": {},
   "outputs": [
    {
     "name": "stdout",
     "output_type": "stream",
     "text": [
      "Final M is  1.2922546649153903  Final c is  0.02557922432134816\n"
     ]
    },
    {
     "data": {
      "text/plain": [
       "[<matplotlib.lines.Line2D at 0xebf3538>]"
      ]
     },
     "execution_count": 46,
     "metadata": {},
     "output_type": "execute_result"
    },
    {
     "data": {
      "image/png": "[encoded data removed]",
      "text/plain": [
       "<Figure size 432x288 with 2 Axes>"
      ]
     },
     "metadata": {
      "needs_background": "light"
     },
     "output_type": "display_data"
    }
   ],
   "source": [
    "fig,(ax1, ax2)=plt.subplots(2)\n",
    "\n",
    "ax1.set(xlabel='Office size in sq_ft')\n",
    "ax1.set(ylabel='Monthly rent in ksh')\n",
    "ax1.scatter(X, Y)\n",
    "ax1.set_title('Line of best fit')\n",
    "\n",
    "ax2.set_title('MSE Error rate')\n",
    "ax2.set(xlabel='Iteration')\n",
    "ax2.set(ylabel='Mean square error')\n",
    "\n",
    "epoch_count_list=[]\n",
    "epoch_error_list=[]\n",
    "\n",
    "Y_hat=gradient_descent_fit(m, c, N, L)\n",
    "\n",
    "ax1.plot([min(X),max(X)],[min(Y_hat),max(Y_hat)],color='green')\n",
    "ax2.plot(epoch_count_list,epoch_error_list)\n"
   ]
  }
 ],
 "metadata": {
  "kernelspec": {
   "display_name": "Python 3",
   "language": "python",
   "name": "python3"
  },
  "language_info": {
   "codemirror_mode": {
    "name": "ipython",
    "version": 3
   },
   "file_extension": ".py",
   "mimetype": "text/x-python",
   "name": "python",
   "nbconvert_exporter": "python",
   "pygments_lexer": "ipython3",
   "version": "3.8.2"
  }
 },
 "nbformat": 4,
 "nbformat_minor": 4
}
