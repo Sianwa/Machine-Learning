{
 "cells": [
  {
   "cell_type": "code",
   "execution_count": 1,
   "metadata": {},
   "outputs": [],
   "source": [
    "import matplotlib.pyplot as plt\n",
    "import numpy as np\n",
    "import pandas as pd"
   ]
  },
  {
   "cell_type": "code",
   "execution_count": 2,
   "metadata": {},
   "outputs": [],
   "source": [
    "m=0\n",
    "c=0\n",
    "#learning rate\n",
    "L=0.0001\n",
    "epoch=100\n",
    "epoch_count_list=[]\n",
    "epoch_error_list=[]"
   ]
  },
  {
   "cell_type": "code",
   "execution_count": 3,
   "metadata": {},
   "outputs": [],
   "source": [
    "data=pd.read_csv('data.csv', header=0)"
   ]
  },
  {
   "cell_type": "code",
   "execution_count": 4,
   "metadata": {},
   "outputs": [],
   "source": [
    "X=data['size_in_sq_ft']\n",
    "Y=data['price_x1000_sh']\n",
    "N=float(len(X))"
   ]
  },
  {
   "cell_type": "code",
   "execution_count": 5,
   "metadata": {},
   "outputs": [],
   "source": [
    "def mse(N, Y,Y_hat):\n",
    "    return (1/N)*sum(Y-Y_hat)**2"
   ]
  },
  {
   "cell_type": "code",
   "execution_count": 6,
   "metadata": {},
   "outputs": [],
   "source": [
    "def gradient_descent_fit(m, c, N, L):\n",
    "    for i in range(epoch):\n",
    "        Y_hat=m*X+c\n",
    "        \n",
    "        epoch_count_list.append(i)\n",
    "        \n",
    "        epoch_error=mse(N, Y,Y_hat)\n",
    "        \n",
    "        epoch_error_list.append(epoch_error)\n",
    "        \n",
    "        #derrivate with respect to m\n",
    "        D_m=(-2/N)*sum(X*(Y-Y_hat))\n",
    "        \n",
    "        #derrivate with respect to c\n",
    "        D_c=(-2/N)*sum(Y-Y_hat)\n",
    "        \n",
    "        m=m-(L*D_m)\n",
    "        \n",
    "        c=c-(L*D_c)    \n",
    "    print('Final M is ', m,' Final c is ' ,c)\n",
    "    return Y_hat"
   ]
  },
  {
   "cell_type": "code",
   "execution_count": 18,
   "metadata": {},
   "outputs": [
    {
     "name": "stdout",
     "output_type": "stream",
     "text": [
      "Final M is  1.4788027175308887  Final c is  0.03507497059521459\n"
     ]
    },
    {
     "data": {
      "text/plain": [
       "[<matplotlib.lines.Line2D at 0xdb9c820>]"
      ]
     },
     "execution_count": 18,
     "metadata": {},
     "output_type": "execute_result"
    },
    {
     "data": {
      "image/png": "[encoded data removed]",
      "text/plain": [
       "<Figure size 432x288 with 2 Axes>"
      ]
     },
     "metadata": {
      "needs_background": "light"
     },
     "output_type": "display_data"
    }
   ],
   "source": [
    "fig,(ax1, ax2)=plt.subplots(2)\n",
    "ax1.set(xlabel='Office size in sq_ft')\n",
    "ax1.set(ylabel='Monthly rent in ksh')\n",
    "ax1.scatter(X, Y)\n",
    "ax1.set_title('Line of best fit')\n",
    "\n",
    "ax2.set_title('MSE Error rate')\n",
    "ax2.set(xlabel='Iteration')\n",
    "ax2.set(ylabel='Mean square error')\n",
    "\n",
    "epoch_count_list=[]\n",
    "epoch_error_list=[]\n",
    "\n",
    "Y_hat=gradient_descent_fit(m, c, N, L)\n",
    "ax1.plot([min(X),max(X)],[min(Y_hat),max(Y_hat)],color='green')\n",
    "\n",
    "\n",
    "ax2.plot(epoch_count_list,epoch_error_list)\n"
   ]
  }
 ],
 "metadata": {
  "kernelspec": {
   "display_name": "Python 3",
   "language": "python",
   "name": "python3"
  },
  "language_info": {
   "codemirror_mode": {
    "name": "ipython",
    "version": 3
   },
   "file_extension": ".py",
   "mimetype": "text/x-python",
   "name": "python",
   "nbconvert_exporter": "python",
   "pygments_lexer": "ipython3",
   "version": "3.8.2"
  }
 },
 "nbformat": 4,
 "nbformat_minor": 4
}
